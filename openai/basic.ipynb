{
 "cells": [
  {
   "cell_type": "code",
   "execution_count": null,
   "metadata": {},
   "outputs": [],
   "source": [
    "%pip install -q python-dotenv openai"
   ]
  },
  {
   "cell_type": "code",
   "execution_count": null,
   "metadata": {},
   "outputs": [],
   "source": [
    "from dotenv import load_dotenv"
   ]
  },
  {
   "cell_type": "code",
   "execution_count": null,
   "metadata": {},
   "outputs": [],
   "source": [
    "load_dotenv()"
   ]
  },
  {
   "cell_type": "code",
   "execution_count": null,
   "metadata": {},
   "outputs": [],
   "source": [
    "import OpenAI from \"openai\";\n",
    "const openai = new OpenAI();\n",
    "\n",
    "const completion = await openai.chat.completions.create({\n",
    "    model: \"gpt-4o-mini\",\n",
    "    messages: [\n",
    "        { role: \"system\", content: \"You are a helpful assistant.\" },\n",
    "        {\n",
    "            role: \"user\",\n",
    "            content: \"Write a haiku about recursion in programming.\",\n",
    "        },\n",
    "    ],\n",
    "    store: true,\n",
    "});\n",
    "\n",
    "console.log(completion.choices[0].message);"
   ]
  }
 ],
 "metadata": {
  "kernelspec": {
   "display_name": "env3.12",
   "language": "python",
   "name": "env3.12"
  },
  "language_info": {
   "name": "python",
   "version": "3.12.0"
  }
 },
 "nbformat": 4,
 "nbformat_minor": 2
}
